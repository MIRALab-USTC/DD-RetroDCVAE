{
 "cells": [
  {
   "cell_type": "markdown",
   "metadata": {},
   "source": [
    "## Make Answer JSON from TXT"
   ]
  },
  {
   "cell_type": "code",
   "execution_count": 1,
   "metadata": {},
   "outputs": [
    {
     "name": "stderr",
     "output_type": "stream",
     "text": [
      "5007it [00:00, 633529.82it/s]\n"
     ]
    },
    {
     "name": "stdout",
     "output_type": "stream",
     "text": [
      "JSON Done!\n"
     ]
    },
    {
     "name": "stderr",
     "output_type": "stream",
     "text": [
      "5001it [00:00, 619831.40it/s]"
     ]
    },
    {
     "name": "stdout",
     "output_type": "stream",
     "text": [
      "JSON Done!\n",
      "2022-08-07 04:46:10\n"
     ]
    },
    {
     "name": "stderr",
     "output_type": "stream",
     "text": [
      "\n"
     ]
    }
   ],
   "source": [
    "import csv\n",
    "import os\n",
    "from tqdm import tqdm\n",
    "import sys\n",
    "import torch\n",
    "import time\n",
    "\n",
    "\n",
    "def creatJSON(data_path, src_file, tgt_file):\n",
    "    with open(src_file, 'r') as sf, open(tgt_file, 'r') as tf:\n",
    "        src = sf.readlines()\n",
    "        tgt = tf.readlines()\n",
    "        answer = {}\n",
    "        last_p = None\n",
    "        for idx, row in tqdm(enumerate(src)):\n",
    "            smi_p = row.strip()\n",
    "            smi_r = tgt[idx].strip()\n",
    "            if smi_p != last_p:\n",
    "                last_rs = []\n",
    "            if last_p == smi_p and smi_r in last_rs:\n",
    "                continue\n",
    "            if last_p != smi_p:\n",
    "                answer[smi_p] = {'product':smi_p, 'reaction':0, 'reactant':[]}\n",
    "            answer[smi_p]['reactant'].append(smi_r)\n",
    "            answer[smi_p]['reaction']+=1\n",
    "            last_p = smi_p\n",
    "            last_rs.append(smi_r)\n",
    "        import json\n",
    "        json_str = json.dumps(answer, indent=4)\n",
    "        if 'val' in src_file:\n",
    "            fn = os.path.join(data_path, \"raw_val\")\n",
    "        elif 'test' in src_file:\n",
    "            fn = os.path.join(data_path, \"raw_test\")\n",
    "        elif 'train' in src_file:\n",
    "            fn = os.path.join(data_path, \"raw_train\")\n",
    "        with open(fn+'.json', 'w') as json_file:\n",
    "            json_file.write(json_str)\n",
    "        print(f'JSON Done!')\n",
    "\n",
    "def main():\n",
    "    # fp = \"./USPTO_DIVERSE\"\n",
    "    fp = \"./USPTO_50k\"\n",
    "    for phase in [\"test\",\"val\"]:\n",
    "        src_file, tgt_file = os.path.join(fp, f\"src-{phase}.txt\"), os.path.join(fp, f\"tgt-{phase}.txt\")\n",
    "        creatJSON(fp, src_file, tgt_file)\n",
    "\n",
    "if __name__ == \"__main__\":\n",
    "    main()\n",
    "    print(time.strftime(\"%Y-%m-%d %H:%M:%S\", time.localtime()))"
   ]
  },
  {
   "cell_type": "code",
   "execution_count": 4,
   "metadata": {},
   "outputs": [
    {
     "name": "stdout",
     "output_type": "stream",
     "text": [
      "CC\n",
      "C C\n"
     ]
    }
   ],
   "source": [
    "smi = 'O=C(Cl)C(=O)Cl.O=C(O)c1ccc2cncc(Br)c2n1>>[Cl-]'\n",
    "smi_r, _, smi_p = smi.split(\">\")\n",
    "a=canonicalize_smiles(smi_p, remove_atom_number=True)\n",
    "b=tokenize_smiles(canonicalize_smiles(smi_p, remove_atom_number=True))\n",
    "print(canonicalize_smiles(smi_p, remove_atom_number=True))\n",
    "print(tokenize_smiles(canonicalize_smiles(smi_p, remove_atom_number=True)))\n"
   ]
  }
 ],
 "metadata": {
  "kernelspec": {
   "display_name": "Python 3.6.13 ('graph2seq')",
   "language": "python",
   "name": "python3"
  },
  "language_info": {
   "codemirror_mode": {
    "name": "ipython",
    "version": 3
   },
   "file_extension": ".py",
   "mimetype": "text/x-python",
   "name": "python",
   "nbconvert_exporter": "python",
   "pygments_lexer": "ipython3",
   "version": "3.6.13"
  },
  "orig_nbformat": 4,
  "vscode": {
   "interpreter": {
    "hash": "e4a186ed28707f3ae002f1b6f68caf91bf4d4c31b0d65fe2b2ab9c5a49f5e9dc"
   }
  }
 },
 "nbformat": 4,
 "nbformat_minor": 2
}
